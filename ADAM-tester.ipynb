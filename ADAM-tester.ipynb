{
 "cells": [
  {
   "cell_type": "code",
   "execution_count": 3,
   "metadata": {},
   "outputs": [],
   "source": [
    "import pandas as pd\n",
    "import matplotlib.pyplot as plt\n",
    "import requests\n",
    "import time\n",
    "import sqlite3"
   ]
  },
  {
   "cell_type": "code",
   "execution_count": 4,
   "metadata": {},
   "outputs": [],
   "source": [
    "target_csv = \"./data/LosAngeles.csv\"\n",
    "csv_losAngeles = pd.read_csv(target_csv,low_memory=False)\n",
    "target_csv = \"./data/AirQualitySystem.csv\"\n",
    "csv_AirQuality = pd.read_csv(target_csv,low_memory=False)"
   ]
  },
  {
   "cell_type": "code",
   "execution_count": 102,
   "metadata": {},
   "outputs": [],
   "source": [
    "data_url = \"https://api.openaq.org/v1/measurements?city=Los Angeles\"\n",
    "data_content = requests.get(data_url)"
   ]
  },
  {
   "cell_type": "code",
   "execution_count": 104,
   "metadata": {},
   "outputs": [],
   "source": [
    "data_results = data_content.json()\n",
    "series = {}\n",
    "series['Los Angeles'] = {}\n",
    "for data in data_results['results']:\n",
    "    if data['parameter'] in series['Los Angeles'].keys():\n",
    "        if data['value'] > 0 :\n",
    "            series['Los Angeles'][data['parameter']]['value'].append(data['value'])\n",
    "            timepoint = time.strptime(data['date']['utc'],\"%Y-%m-%dT%H:%M:%S.%fZ\")\n",
    "            series['Los Angeles'][data['parameter']]['time'].append(timepoint.tm_yday+timepoint.tm_hour/24)\n",
    "        else :\n",
    "            timepoint = time.strptime(data['date']['utc'],\"%Y-%m-%dT%H:%M:%S.%fZ\")\n",
    "            timepoint = timepoint.tm_yday+timepoint.tm_hour/24\n",
    "            if timepoint in series['Los Angeles'][data['parameter']]['error'].keys():\n",
    "                series['Los Angeles'][data['parameter']]['error'][timepoint] += 1\n",
    "            else :\n",
    "                series['Los Angeles'][data['parameter']]['error'][timepoint] = 1\n",
    "            \n",
    "    else:\n",
    "        series['Los Angeles'][data['parameter']] = {}\n",
    "        series['Los Angeles'][data['parameter']]['value'] = []\n",
    "        series['Los Angeles'][data['parameter']]['time'] = []\n",
    "        series['Los Angeles'][data['parameter']]['error'] = {}\n",
    "        if data['value'] > 0 :\n",
    "            timepoint = time.strptime(data['date']['utc'],\"%Y-%m-%dT%H:%M:%S.%fZ\")\n",
    "            series['Los Angeles'][data['parameter']]['value'].append(data['value'])\n",
    "            series['Los Angeles'][data['parameter']]['time'].append(timepoint.tm_yday+timepoint.tm_hour/24)\n",
    "        else :\n",
    "            timepoint = time.strptime(data['date']['utc'],\"%Y-%m-%dT%H:%M:%S.%fZ\")\n",
    "            timepoint = timepoint.tm_yday+timepoint.tm_hour/24\n",
    "            if timepoint in series['Los Angeles'][data['parameter']]['error'].keys():\n",
    "                series['Los Angeles'][data['parameter']]['error'][timepoint] += 1\n",
    "            else :\n",
    "                series['Los Angeles'][data['parameter']]['error'][timepoint] = 1\n",
    "            "
   ]
  },
  {
   "cell_type": "code",
   "execution_count": 109,
   "metadata": {},
   "outputs": [
    {
     "data": {
      "text/plain": [
       "(array([290.4, 290.6, 290.8, 291. , 291.2, 291.4, 291.6, 291.8, 292. ,\n",
       "        292.2]), <a list of 10 Text xticklabel objects>)"
      ]
     },
     "execution_count": 109,
     "metadata": {},
     "output_type": "execute_result"
    },
    {
     "data": {
      "image/png": "[encoded data removed]",
      "text/plain": [
       "<Figure size 432x288 with 1 Axes>"
      ]
     },
     "metadata": {
      "needs_background": "light"
     },
     "output_type": "display_data"
    }
   ],
   "source": [
    "plt.scatter(series['Los Angeles']['pm25']['time'],series['Los Angeles']['pm25']['value'])\n",
    "plt.scatter(series['Los Angeles']['pm25']['error'].keys(),series['Los Angeles']['pm25']['error'].values(),alpha=.3)\n",
    "plt.title('Los Angeles measurements')\n",
    "plt.legend([\"readings\",\"data issues\"])\n",
    "plt.xticks()"
   ]
  },
  {
   "cell_type": "code",
   "execution_count": 27,
   "metadata": {},
   "outputs": [
    {
     "data": {
      "text/plain": [
       "array(['AirNow'], dtype=object)"
      ]
     },
     "execution_count": 27,
     "metadata": {},
     "output_type": "execute_result"
    }
   ],
   "source": [
    "csv_losAngeles['sourcename'].unique()"
   ]
  },
  {
   "cell_type": "code",
   "execution_count": 6,
   "metadata": {},
   "outputs": [],
   "source": [
    "connection = sqlite3.connect('weather-store.db')\n",
    "cursor = connection.cursor()\n",
    "#create table co table\n",
    "creation_table = \"\"\"CREATE TABLE co_parameter\n",
    "                    (source text,reading real,unit text,latitude real,longitude real,confidence real,date text)\"\"\"\n",
    "cursor.execute(creation_table)\n",
    "connection.commit()\n",
    "connection.close()"
   ]
  },
  {
   "cell_type": "code",
   "execution_count": 23,
   "metadata": {},
   "outputs": [],
   "source": [
    "#setup database connection\n",
    "connection = sqlite3.connect('weather-store.db')\n",
    "cursor = connection.cursor()\n",
    "#start writing to db\n",
    "insert_statement = \"\"\"INSERT INTO co_parameter Values(?,?,?,?,?,?,?)\"\"\"\n",
    "#create value list\n",
    "count = 0\n",
    "inserts = []\n",
    "for index,row in csv_losAngeles.iterrows():\n",
    "    count += 1\n",
    "    coords = row['coordinates'].replace(\"{\",\"\").replace(\"}\",\"\")\n",
    "    coords = coords.split(\",\")\n",
    "    location = {'latitude' : float(coords[0].split(\"=\")[1]),'longitude' : float(coords[1].split(\"=\")[1])}\n",
    "    date = row['date'].replace(\"{\",\"\").replace(\"}\",\"\")\n",
    "    date = date.split(\",\")[0].split(\"=\")[1]\n",
    "    inserts.append([row['sourcename'],row['value'],row['unit'],location['latitude'],location['longitude'],0.0,date])\n",
    "    if count > 1000:\n",
    "        cursor.executemany(insert_statement,inserts)\n",
    "        count = 0\n",
    "        inserts = []\n",
    "        "
   ]
  },
  {
   "cell_type": "code",
   "execution_count": 46,
   "metadata": {},
   "outputs": [],
   "source": [
    "import pymysql\n",
    "import pymysql.cursors\n",
    "connection = pymysql.connect(host='35.244.98.157',\n",
    "                             user='root',\n",
    "                             password='',\n",
    "                             db='weatherstore')\n",
    "try:\n",
    "    with connection.cursor() as cursor:\n",
    "        # Create a new record\n",
    "        insert_statement = \"\"\"INSERT INTO co_parameter (source,reading,unit,latitude,longitude,confidence,date) Values (%s,%s,%s,%s,%s,%s,%s)\"\"\"\n",
    "        # get rows\n",
    "        count = 0\n",
    "        inserts = []\n",
    "        for index,row in csv_losAngeles.iterrows():\n",
    "            count += 1\n",
    "            coords = row['coordinates'].replace(\"{\",\"\").replace(\"}\",\"\")\n",
    "            coords = coords.split(\",\")\n",
    "            location = {'latitude' : float(coords[0].split(\"=\")[1]),'longitude' : float(coords[1].split(\"=\")[1])}\n",
    "            date = row['date'].replace(\"{\",\"\").replace(\"}\",\"\")\n",
    "            date = date.split(\",\")[0].split(\"=\")[1]\n",
    "            inserts.append([row['sourcename'],row['value'],row['unit'],location['latitude'],location['longitude'],0.0,date])\n",
    "            if count > 1000:\n",
    "                cursor.executemany(insert_statement,inserts)\n",
    "                count = 0\n",
    "                inserts = []\n",
    "    connection.commit()\n",
    "\n",
    "except Excpetion as e: \n",
    "    print(e)\n",
    "    print(\"oops\")\n",
    "finally:\n",
    "    connection.close()\n",
    "        "
   ]
  },
  {
   "cell_type": "code",
   "execution_count": 55,
   "metadata": {},
   "outputs": [],
   "source": [
    "def ncdump(nc_fid, verb=True):\n",
    "    '''\n",
    "    ncdump outputs dimensions, variables and their attribute information.\n",
    "    The information is similar to that of NCAR's ncdump utility.\n",
    "    ncdump requires a valid instance of Dataset.\n",
    "\n",
    "    Parameters\n",
    "    ----------\n",
    "    nc_fid : netCDF4.Dataset\n",
    "        A netCDF4 dateset object\n",
    "    verb : Boolean\n",
    "        whether or not nc_attrs, nc_dims, and nc_vars are printed\n",
    "\n",
    "    Returns\n",
    "    -------\n",
    "    nc_attrs : list\n",
    "        A Python list of the NetCDF file global attributes\n",
    "    nc_dims : list\n",
    "        A Python list of the NetCDF file dimensions\n",
    "    nc_vars : list\n",
    "        A Python list of the NetCDF file variables\n",
    "    '''\n",
    "    def print_ncattr(key):\n",
    "        \"\"\"\n",
    "        Prints the NetCDF file attributes for a given key\n",
    "\n",
    "        Parameters\n",
    "        ----------\n",
    "        key : unicode\n",
    "            a valid netCDF4.Dataset.variables key\n",
    "        \"\"\"\n",
    "        try:\n",
    "            print (\"\\t\\ttype:\", repr(nc_fid.variables[key].dtype))\n",
    "            for ncattr in nc_fid.variables[key].ncattrs():\n",
    "                print ('\\t\\t%s:' % ncattr,\n",
    "                      repr(nc_fid.variables[key].getncattr(ncattr)))\n",
    "        except KeyError:\n",
    "            print (\"\\t\\tWARNING: %s does not contain variable attributes\" % key)\n",
    "\n",
    "    # NetCDF global attributes\n",
    "    nc_attrs = nc_fid.ncattrs()\n",
    "    if verb:\n",
    "        print (\"NetCDF Global Attributes:\")\n",
    "        for nc_attr in nc_attrs:\n",
    "            print ('\\t%s:' % nc_attr, repr(nc_fid.getncattr(nc_attr)))\n",
    "    nc_dims = [dim for dim in nc_fid.dimensions]  # list of nc dimensions\n",
    "    # Dimension shape information.\n",
    "    if verb:\n",
    "        print(\"NetCDF dimension information:\")\n",
    "        for dim in nc_dims:\n",
    "            print (\"\\tName:\", dim)\n",
    "            print (\"\\t\\tsize:\", len(nc_fid.dimensions[dim]))\n",
    "            print_ncattr(dim)\n",
    "    # Variable information.\n",
    "    nc_vars = [var for var in nc_fid.variables]  # list of nc variables\n",
    "    if verb:\n",
    "        print(\"NetCDF variable information:\")\n",
    "        for var in nc_vars:\n",
    "            if var not in nc_dims:\n",
    "                print ('\\tName:', var)\n",
    "                print (\"\\t\\tdimensions:\", nc_fid.variables[var].dimensions)\n",
    "                print (\"\\t\\tsize:\", nc_fid.variables[var].size)\n",
    "                print_ncattr(var)\n",
    "    return nc_attrs, nc_dims, nc_vars"
   ]
  },
  {
   "cell_type": "code",
   "execution_count": 60,
   "metadata": {},
   "outputs": [
    {
     "name": "stdout",
     "output_type": "stream",
     "text": [
      "NetCDF Global Attributes:\n",
      "\tConventions: 'CF-1.6'\n",
      "\ttitle: 'Global surface fluxes inferred by atmospheric inversion'\n",
      "\tinstitution: 'LSCE (CEA/CNRS/UVSQ) - IPSL'\n",
      "\tsource: 'Assimilation of XCO2 retrievals'\n",
      "\thistory: '2019-06-25 04:39:52 GMT, PYVAR run by fcheval'\n",
      "\treferences: 'Chevallier et al. (JGR, 2005, JGR, 2010); Chevallier (GMD, 2013)'\n",
      "\tcomment: 'Positive fluxes release carbon to the atmosphere'\n",
      "NetCDF dimension information:\n",
      "\tName: longitude\n",
      "\t\tsize: 96\n",
      "\t\ttype: dtype('float64')\n",
      "\t\tunits: 'degrees_east'\n",
      "\t\tstandard_name: 'longitude'\n",
      "\tName: latitude\n",
      "\t\tsize: 96\n",
      "\t\ttype: dtype('float64')\n",
      "\t\tunits: 'degrees_north'\n",
      "\t\tstandard_name: 'latitude'\n",
      "NetCDF variable information:\n",
      "\tName: flux_apri_bio\n",
      "\t\tdimensions: ('latitude', 'longitude')\n",
      "\t\tsize: 9216\n",
      "\t\ttype: dtype('float64')\n",
      "\t\tlong_name: 'Prior land surface upward mass flux of carbon for the whole grid box and the whole month without fossile'\n",
      "\t\tunits: 'kgC m-2 month-1'\n",
      "\t\tmissing_value: -9999.0\n",
      "\tName: flux_apri_ocean\n",
      "\t\tdimensions: ('latitude', 'longitude')\n",
      "\t\tsize: 9216\n",
      "\t\ttype: dtype('float64')\n",
      "\t\tlong_name: 'Prior ocean surface upward mass flux of carbon for the whole grid box and the whole month without fossile'\n",
      "\t\tunits: 'kgC m-2 month-1'\n",
      "\t\tmissing_value: -9999.0\n",
      "\tName: flux_apos_bio\n",
      "\t\tdimensions: ('latitude', 'longitude')\n",
      "\t\tsize: 9216\n",
      "\t\ttype: dtype('float64')\n",
      "\t\tlong_name: 'Posterior land surface upward mass flux of carbon for the whole grid box and the whole month without fossile'\n",
      "\t\tunits: 'kgC m-2 month-1'\n",
      "\t\tmissing_value: -9999.0\n",
      "\tName: flux_apos_ocean\n",
      "\t\tdimensions: ('latitude', 'longitude')\n",
      "\t\tsize: 9216\n",
      "\t\ttype: dtype('float64')\n",
      "\t\tlong_name: 'Posterior ocean surface upward mass flux of carbon for the whole grid box and the whole month without fossile'\n",
      "\t\tunits: 'kgC m-2 month-1'\n",
      "\t\tmissing_value: -9999.0\n",
      "\tName: flux_foss\n",
      "\t\tdimensions: ('latitude', 'longitude')\n",
      "\t\tsize: 9216\n",
      "\t\ttype: dtype('float64')\n",
      "\t\tlong_name: 'Fossile emissions of carbon for the whole grid box and the whole month'\n",
      "\t\tunits: 'kgC m-2 month-1'\n",
      "\t\tmissing_value: -9999.0\n",
      "\tName: lsf\n",
      "\t\tdimensions: ('latitude', 'longitude')\n",
      "\t\tsize: 9216\n",
      "\t\ttype: dtype('float64')\n",
      "\t\tlong_name: 'Land-sea fraction'\n",
      "\t\tunits: '(0-1)'\n",
      "\tName: area\n",
      "\t\tdimensions: ('latitude', 'longitude')\n",
      "\t\tsize: 9216\n",
      "\t\ttype: dtype('float64')\n",
      "\t\tlong_name: 'Grid box area'\n",
      "\t\tunits: 'm2'\n"
     ]
    }
   ],
   "source": [
    "from netCDF4 import Dataset\n",
    "nc_file = Dataset(\".\\data\\ecmwf_co2\\z_cams_l_lsce_201801_FT18r1_ra_sfc_mm_co2flux.nc\")\n",
    "nc_attrs, nc_dims, nc_vars = ncdump(nc_file)\n"
   ]
  },
  {
   "cell_type": "code",
   "execution_count": 97,
   "metadata": {},
   "outputs": [
    {
     "data": {
      "text/plain": [
       "masked_array(data=[0.00000000e+00, 0.00000000e+00, 0.00000000e+00,\n",
       "                   0.00000000e+00, 0.00000000e+00, 0.00000000e+00,\n",
       "                   0.00000000e+00, 0.00000000e+00, 0.00000000e+00,\n",
       "                   0.00000000e+00, 0.00000000e+00, 0.00000000e+00,\n",
       "                   0.00000000e+00, 0.00000000e+00, 0.00000000e+00,\n",
       "                   0.00000000e+00, 0.00000000e+00, 0.00000000e+00,\n",
       "                   0.00000000e+00, 0.00000000e+00, 0.00000000e+00,\n",
       "                   0.00000000e+00, 0.00000000e+00, 0.00000000e+00,\n",
       "                   0.00000000e+00, 0.00000000e+00, 0.00000000e+00,\n",
       "                   0.00000000e+00, 0.00000000e+00, 0.00000000e+00,\n",
       "                   0.00000000e+00, 0.00000000e+00, 0.00000000e+00,\n",
       "                   0.00000000e+00, 0.00000000e+00, 0.00000000e+00,\n",
       "                   0.00000000e+00, 0.00000000e+00, 0.00000000e+00,\n",
       "                   0.00000000e+00, 0.00000000e+00, 0.00000000e+00,\n",
       "                   0.00000000e+00, 0.00000000e+00, 0.00000000e+00,\n",
       "                   0.00000000e+00, 0.00000000e+00, 0.00000000e+00,\n",
       "                   0.00000000e+00, 0.00000000e+00, 0.00000000e+00,\n",
       "                   0.00000000e+00, 0.00000000e+00, 0.00000000e+00,\n",
       "                   0.00000000e+00, 0.00000000e+00, 0.00000000e+00,\n",
       "                   0.00000000e+00, 0.00000000e+00, 0.00000000e+00,\n",
       "                   0.00000000e+00, 0.00000000e+00, 0.00000000e+00,\n",
       "                   0.00000000e+00, 0.00000000e+00, 0.00000000e+00,\n",
       "                   0.00000000e+00, 0.00000000e+00, 0.00000000e+00,\n",
       "                   0.00000000e+00, 0.00000000e+00, 0.00000000e+00,\n",
       "                   0.00000000e+00, 0.00000000e+00, 0.00000000e+00,\n",
       "                   0.00000000e+00, 0.00000000e+00, 0.00000000e+00,\n",
       "                   0.00000000e+00, 0.00000000e+00, 0.00000000e+00,\n",
       "                   0.00000000e+00, 0.00000000e+00, 0.00000000e+00,\n",
       "                   0.00000000e+00, 0.00000000e+00, 0.00000000e+00,\n",
       "                   0.00000000e+00, 0.00000000e+00, 0.00000000e+00,\n",
       "                   0.00000000e+00, 0.00000000e+00, 5.77550126e-05,\n",
       "                   0.00000000e+00, 0.00000000e+00, 0.00000000e+00],\n",
       "             mask=False,\n",
       "       fill_value=1e+20)"
      ]
     },
     "execution_count": 97,
     "metadata": {},
     "output_type": "execute_result"
    }
   ],
   "source": [
    "nc_file.variables['flux_foss'][6]"
   ]
  },
  {
   "cell_type": "code",
   "execution_count": 24,
   "metadata": {},
   "outputs": [],
   "source": [
    "connection.commit()\n",
    "connection.close()"
   ]
  }
 ],
 "metadata": {
  "kernelspec": {
   "display_name": "Python 3",
   "language": "python",
   "name": "python3"
  },
  "language_info": {
   "codemirror_mode": {
    "name": "ipython",
    "version": 3
   },
   "file_extension": ".py",
   "mimetype": "text/x-python",
   "name": "python",
   "nbconvert_exporter": "python",
   "pygments_lexer": "ipython3",
   "version": "3.7.4"
  }
 },
 "nbformat": 4,
 "nbformat_minor": 2
}
