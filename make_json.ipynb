{
 "cells": [
  {
   "cell_type": "code",
   "execution_count": 9,
   "metadata": {},
   "outputs": [],
   "source": [
    "import sqlite3\n",
    "output_file = open(\"co2_paramter.json\",\"w\")\n",
    "output_file.write('[[\"co2\",[')\n",
    "\n",
    "import pymysql\n",
    "import pymysql.cursors\n",
    "connection = pymysql.connect(host='35.244.98.157',\n",
    "                             user='root',\n",
    "                             password='',\n",
    "                             db='weatherstore')\n",
    "with connection.cursor() as cursor:\n",
    "    try:\n",
    "        cursor.execute(\"select * from co_parameter\")\n",
    "        count = 0\n",
    "        new_entry = 0\n",
    "        for row in cursor.fetchall():\n",
    "            if new_entry == 0 :\n",
    "                if row[2] == \"ppm\":\n",
    "                    count += 1\n",
    "                    output_file.write(\"{},{},{}\".format(row[3],row[4],row[1]))\n",
    "                    new_entry = 1\n",
    "            else:\n",
    "                if row[2] == \"ppm\":\n",
    "                    count += 1\n",
    "                    output_file.write(\",{},{},{}\".format(row[3],row[4],row[1]))\n",
    "            if count == 1000:\n",
    "                break\n",
    "    except:\n",
    "        print(\"opps\")\n",
    "    finally:\n",
    "        output_file.write(\"]]]\")\n",
    "        connection.close()\n",
    "        output_file.close()"
   ]
  }
 ],
 "metadata": {
  "kernelspec": {
   "display_name": "Python 3",
   "language": "python",
   "name": "python3"
  },
  "language_info": {
   "codemirror_mode": {
    "name": "ipython",
    "version": 3
   },
   "file_extension": ".py",
   "mimetype": "text/x-python",
   "name": "python",
   "nbconvert_exporter": "python",
   "pygments_lexer": "ipython3",
   "version": "3.7.4"
  }
 },
 "nbformat": 4,
 "nbformat_minor": 2
}
