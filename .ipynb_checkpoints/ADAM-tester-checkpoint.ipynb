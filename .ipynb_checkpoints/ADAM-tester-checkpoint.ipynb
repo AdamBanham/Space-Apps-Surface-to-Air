{
 "cells": [
  {
   "cell_type": "code",
   "execution_count": 59,
   "metadata": {},
   "outputs": [],
   "source": [
    "import pandas as pd\n",
    "import matplotlib.pyplot as plt\n",
    "import requests\n",
    "import time"
   ]
  },
  {
   "cell_type": "code",
   "execution_count": 4,
   "metadata": {},
   "outputs": [],
   "source": [
    "target_url = \"https://api.openaq.org/v1/cities\"\n",
    "content = requests.get(target_url)"
   ]
  },
  {
   "cell_type": "code",
   "execution_count": 10,
   "metadata": {},
   "outputs": [
    {
     "name": "stdout",
     "output_type": "stream",
     "text": [
      "Escaldes-Engordany\n",
      "unused\n",
      "Abu Dhabi\n",
      "Dubai\n",
      "Buenos Aires\n",
      "Amt der Burgenländischen Landesregierung\n",
      "Amt der Burgenl�ndischen Landesregierung\n",
      "Amt der Kärntner Landesregierung\n",
      "Amt der K�rntner Landesregierung\n",
      "Amt der Niederösterreichischen Landesregierung\n",
      "Amt der Nieder�sterreichischen Landesregierung\n",
      "Amt der Oberösterreichischen Landesregierung\n",
      "Amt der Ober�sterreichischen Landesregierung\n",
      "Amt der Salzburger Landesregierung\n",
      "Amt der Steiermärkischen Landesregierung\n",
      "Amt der Steierm�rkischen Landesregierung\n",
      "Amt der Tiroler Landesregierung\n",
      "Austria\n",
      "Gemeinde Wien, MA22 Umweltschutz\n",
      "Umweltbundesamt\n",
      "Umweltinstitut des Landes Vorarlberg\n",
      "Central Coast\n",
      "Central Queensland\n",
      "Central Tablelands\n",
      "Gladstone\n",
      "Illawarra\n",
      "Lower Hunter\n",
      "Mackay\n",
      "Mount Isa\n",
      "Mt Isa\n",
      "North-west Slopes\n",
      "South East Queensland\n",
      "South West Queensland\n",
      "South-west Slopes\n",
      "Sydney East\n",
      "Sydney North-west\n",
      "Sydney South-west\n",
      "Tasmania Region\n",
      "Townsville\n",
      "Upper Hunter - Muswellbrook\n",
      "Upper Hunter - Singleton\n",
      "Goražde\n",
      "Ilijaš\n",
      "Jajce\n",
      "Kakanj\n",
      "Lukavac\n",
      "N/A\n",
      "Sarajevo\n",
      "Tuzla\n",
      "Zenica\n",
      "Živinice\n",
      "Dhaka\n",
      "Antwerpen\n",
      "Brabant wallon\n",
      "Brussels\n",
      "Brussels-Capital Region\n",
      "Flanders\n",
      "Hainaut\n",
      "Liege\n",
      "Limburg\n",
      "Luxembourg\n",
      "Namur\n",
      "Oost-Vlaanderen\n",
      "Vlaams-Brabant\n",
      "Wallonia\n",
      "West-Vlaanderen\n",
      "Manama\n",
      "Americana\n",
      "Araçatuba\n",
      "Araraquara\n",
      "Bauru\n",
      "Campinas\n",
      "Catanduva\n",
      "Cerqueira César\n",
      "Cubatão\n",
      "Diadema\n",
      "Guarulhos\n",
      "Jacareí\n",
      "Jaú\n",
      "Jundiaí\n",
      "Limeira\n",
      "Marília\n",
      "Mauá\n",
      "Osasco\n",
      "Paulínia\n",
      "Piracicaba\n",
      "Presidente Prudente\n",
      "Santa Gertrudes\n",
      "Santo André\n",
      "Santos\n",
      "São Bernardo do Campo\n",
      "São José Do Rio Preto\n",
      "Sao Paulo\n",
      "São Paulo\n",
      "Sorocaba\n",
      "Taboão da Serra\n",
      "Tatuí\n",
      "Taubaté\n",
      "ALBERTA\n",
      "BRITISH COLUMBIA\n"
     ]
    }
   ],
   "source": [
    "results = content.json()\n",
    "for key in results['results']:\n",
    "    print(key['name'])"
   ]
  },
  {
   "cell_type": "code",
   "execution_count": 27,
   "metadata": {},
   "outputs": [],
   "source": [
    "data_url = \"https://api.openaq.org/v1/measurements?city=Addis Ababa\"\n",
    "data_content = requests.get(data_url)"
   ]
  },
  {
   "cell_type": "code",
   "execution_count": 85,
   "metadata": {},
   "outputs": [],
   "source": [
    "data_results = data_content.json()\n",
    "series = {}\n",
    "series['Addis Ababa'] = {}\n",
    "for data in data_results['results']:\n",
    "    if data['parameter'] in series['Addis Ababa'].keys():\n",
    "        if data['value'] > 0 :\n",
    "            series['Addis Ababa'][data['parameter']]['value'].append(data['value'])\n",
    "            timepoint = time.strptime(data['date']['utc'],\"%Y-%m-%dT%H:%M:%S.%fZ\")\n",
    "            series['Addis Ababa'][data['parameter']]['time'].append(timepoint.tm_yday+timepoint.tm_hour/24)\n",
    "        else :\n",
    "            timepoint = time.strptime(data['date']['utc'],\"%Y-%m-%dT%H:%M:%S.%fZ\")\n",
    "            timepoint = timepoint.tm_yday+timepoint.tm_hour/24\n",
    "            if timepoint in series['Addis Ababa'][data['parameter']]['error'].keys()\n",
    "                series['Addis Ababa'][data['parameter']]['error']['value'] += 1\n",
    "            else :\n",
    "                series['Addis Ababa'][data['parameter']]['error'][timepoint] = 1\n",
    "            \n",
    "    else:\n",
    "        series['Addis Ababa'][data['parameter']] = {}\n",
    "        series['Addis Ababa'][data['parameter']]['value'] = []\n",
    "        series['Addis Ababa'][data['parameter']]['time'] = []\n",
    "        series['Addis Ababa'][data['parameter']]['error'] = {}\n",
    "        if data['value'] > 0 :\n",
    "            timepoint = time.strptime(data['date']['utc'],\"%Y-%m-%dT%H:%M:%S.%fZ\")\n",
    "            series['Addis Ababa'][data['parameter']]['value'].append(data['value'])\n",
    "            series['Addis Ababa'][data['parameter']]['time'].append(timepoint.tm_yday+timepoint.tm_hour/24)\n",
    "        else :\n",
    "            timepoint = time.strptime(data['date']['utc'],\"%Y-%m-%dT%H:%M:%S.%fZ\")\n",
    "            timepoint = timepoint.tm_yday+timepoint.tm_hour/24\n",
    "            if timepoint in series['Addis Ababa'][data['parameter']]['error'].keys()\n",
    "                series['Addis Ababa'][data['parameter']]['error']['value'] += 1\n",
    "            else :\n",
    "                series['Addis Ababa'][data['parameter']]['error'][timepoint] = 1\n",
    "            "
   ]
  },
  {
   "cell_type": "code",
   "execution_count": 86,
   "metadata": {},
   "outputs": [
    {
     "data": {
      "text/plain": [
       "(array([289.5, 290. , 290.5, 291. , 291.5, 292. , 292.5]),\n",
       " <a list of 7 Text xticklabel objects>)"
      ]
     },
     "execution_count": 86,
     "metadata": {},
     "output_type": "execute_result"
    },
    {
     "data": {
      "image/png": "[encoded data removed]",
      "text/plain": [
       "<Figure size 432x288 with 1 Axes>"
      ]
     },
     "metadata": {
      "needs_background": "light"
     },
     "output_type": "display_data"
    }
   ],
   "source": [
    "plt.scatter(series['Addis Ababa'][data['parameter']]['time'],series['Addis Ababa'][data['parameter']]['value'])\n",
    "plt.title('Addis Ababa measurements')\n",
    "plt.xticks()"
   ]
  }
 ],
 "metadata": {
  "kernelspec": {
   "display_name": "Python 3",
   "language": "python",
   "name": "python3"
  },
  "language_info": {
   "codemirror_mode": {
    "name": "ipython",
    "version": 3
   },
   "file_extension": ".py",
   "mimetype": "text/x-python",
   "name": "python",
   "nbconvert_exporter": "python",
   "pygments_lexer": "ipython3",
   "version": "3.7.4"
  }
 },
 "nbformat": 4,
 "nbformat_minor": 2
}
